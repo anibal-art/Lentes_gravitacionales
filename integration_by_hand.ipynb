{
 "cells": [
  {
   "cell_type": "code",
   "execution_count": 1,
   "id": "1f667c20-77c6-41bb-891e-2665d4530d91",
   "metadata": {},
   "outputs": [
    {
     "name": "stdout",
     "output_type": "stream",
     "text": [
      "Plataforma por defecto: gpu\n",
      "Dispositivos disponibles: [CudaDevice(id=0)]\n"
     ]
    }
   ],
   "source": [
    "import numpy as np\n",
    "import matplotlib.pyplot as plt\n",
    "from astropy import units as u\n",
    "from astropy import constants as C\n",
    "import scipy.integrate as integrate\n",
    "from scipy.integrate import simpson, dblquad\n",
    "from event_rate import dif_event_rate, integrand_jax, integrand_jax_m31, double_integral_2d\n",
    "from tqdm import tqdm\n",
    "import time\n",
    "import os\n",
    "import jax\n",
    "import jax.numpy as jnp\n",
    "from jax import vmap\n",
    "from jax.scipy.integrate import trapezoid\n",
    "import matplotlib.pyplot as plt\n",
    "from scipy.interpolate import interp1d\n",
    "\n",
    "os.environ[\"JAX_PLATFORM_NAME\"] = \"gpu\"\n",
    "print(\"Plataforma por defecto:\", jax.default_backend())\n",
    "print(\"Dispositivos disponibles:\", jax.devices())\n",
    "jax.config.update(\"jax_enable_x64\", True)"
   ]
  },
  {
   "cell_type": "code",
   "execution_count": 9,
   "id": "4446627a-297d-4056-8fca-3bfbcde38e98",
   "metadata": {},
   "outputs": [],
   "source": [
    "def interp(x_data,y_data):\n",
    "    sorted_indices = np.argsort(x_data)\n",
    "    x_data = x_data[sorted_indices]\n",
    "    y_data = y_data[sorted_indices]\n",
    "\n",
    "    #Agregar un punto artificial que decae a 0\n",
    "    x_max = x_data[-1]\n",
    "    delta = 0.001 * x_max  # un pequeño paso más allá\n",
    "    arr1_extended = np.append(x_data, x_max + delta)\n",
    "    arr0_extended = np.append(y_data, 0.0)\n",
    "    \n",
    "    # Interpolador cúbico o lineal (según prefieras)\n",
    "    interp_func = interp1d(arr1_extended, arr0_extended, kind='cubic', bounds_error=False, fill_value=0.0)\n",
    "    \n",
    "    # Interpolación\n",
    "    if x_max + delta>1:\n",
    "        limlogmax = 0\n",
    "    else:\n",
    "        limlogmax = np.log10(x_max + delta)\n",
    "    x_interp = np.logspace(np.log10(x_data[0]), limlogmax , 1000)\n",
    "    y_interp = interp_func(x_interp)\n",
    "    return x_interp, y_interp\n",
    "    \n",
    "def integrate_umin(integrand_ut, x,uT):\n",
    "    umin = jnp.linspace(0,uT-1e-15,1000)\n",
    "    if x<1:\n",
    "        y_vals = integrand_ut(umin,x,uT)    \n",
    "        # plt.plot(umin, y_vals)\n",
    "        return trapezoid(y_vals, umin, dx=1e-20)\n",
    "\n",
    "\n",
    "\n",
    "def integrate_dl(x, integrandx):\n",
    "\n",
    "    result = trapezoid(integrandx, x, dx = 1e-20)\n",
    "    return result\n",
    "\n",
    "\n",
    "def integrate_umin_dl(f, X, UT):\n",
    "    integrand_x = []\n",
    "\n",
    "    for i in range(len(X[X<1])):\n",
    "        x, uT = X[i], UT[i]\n",
    "        integrand_x.append(integrate_umin(f, x, uT))\n",
    "\n",
    "    integrandx = np.array([float(integrand_x[f]) for f in range(len(integrand_x)-1)])\n",
    "    x = X[X<1][0:-1]\n",
    "        \n",
    "    return integrate_dl(x,integrandx)\n",
    "\n",
    "def Dgama_Dt(m, x_interp, y_interp):\n",
    "    dgama_dt = []\n",
    "    t_hat = np.logspace(-2, 1, 100)*u.hour.to('s')\n",
    "    for t_val in tqdm(t_hat):\n",
    "        rho_c_MW = 4.88e6*C.M_sun/u.kpc**3\n",
    "        rs_MW = 21.5*u.kpc\n",
    "        rho_c_M31 = 4.96e6*C.M_sun/u.kpc**3\n",
    "        rs_M31 = 25*u.kpc\n",
    "        uT = 1.5\n",
    "        l,b = 121.2, -21.6 \n",
    "        D = 770*u.kpc\n",
    "        rs_MW_val = rs_MW.to('m').value\n",
    "        rho_c_MW_val = rho_c_MW.to('kg/m^3').value\n",
    "        \n",
    "        rs_M31_val = rs_M31.to('m').valuea\n",
    "        rho_c_M31_val = rho_c_M31.to('kg/m^3').value\n",
    "        \n",
    "        D_val = D.to('m').value\n",
    "\n",
    "        l_val = l\n",
    "        b_val = b\n",
    "        \n",
    "        M_sun = 1.988409870698051e+30\n",
    "        m_val = m*M_sun\n",
    "        \n",
    "        f_jax_MW = lambda umin, x, uT_val: integrand_jax(umin, x, D=D_val, rs=rs_MW_val, rho_c=rho_c_MW_val,\n",
    "                                           t=t_val, m=m_val, l_coord=l,\n",
    "                                           b_coord=b, uT=uT_val)\n",
    "    \n",
    "        f_jax_M31 = lambda umin, x, uT_val: integrand_jax_m31(umin, x, D=D_val, rs=rs_M31_val, rho_c=rho_c_M31_val,\n",
    "                                       t=t_val, m=m_val, l_coord=l,\n",
    "                                       b_coord=b, uT=uT_val)\n",
    "        \n",
    "        \n",
    "        dgama_dt.append(integrate_umin_dl(f_jax_MW, x_interp, y_interp) + integrate_umin_dl(f_jax_M31, x_interp, y_interp))\n",
    "    return t_hat/3600 , np.array(dgama_dt)\n"
   ]
  },
  {
   "cell_type": "code",
   "execution_count": null,
   "id": "15571b0f-0b1c-4218-94a7-94a246ba2523",
   "metadata": {},
   "outputs": [],
   "source": []
  },
  {
   "cell_type": "code",
   "execution_count": 12,
   "id": "9ccd00da-19ca-4b32-88de-028b0609dfc8",
   "metadata": {},
   "outputs": [
    {
     "name": "stderr",
     "output_type": "stream",
     "text": [
      "100%|█████████████████████████████████████████| 100/100 [04:35<00:00,  2.75s/it]\n",
      "100%|█████████████████████████████████████████| 100/100 [04:12<00:00,  2.52s/it]\n",
      "100%|█████████████████████████████████████████| 100/100 [04:12<00:00,  2.53s/it]\n",
      "100%|█████████████████████████████████████████| 100/100 [04:09<00:00,  2.49s/it]\n",
      "100%|█████████████████████████████████████████| 100/100 [04:33<00:00,  2.73s/it]\n",
      "100%|█████████████████████████████████████████| 100/100 [04:16<00:00,  2.56s/it]\n",
      "100%|█████████████████████████████████████████| 100/100 [04:16<00:00,  2.56s/it]\n",
      "100%|█████████████████████████████████████████| 100/100 [04:18<00:00,  2.59s/it]\n",
      "100%|█████████████████████████████████████████| 100/100 [04:09<00:00,  2.50s/it]\n",
      "100%|█████████████████████████████████████████| 100/100 [04:12<00:00,  2.52s/it]\n",
      "100%|█████████████████████████████████████████| 100/100 [04:21<00:00,  2.61s/it]\n",
      "100%|█████████████████████████████████████████| 100/100 [04:35<00:00,  2.76s/it]\n",
      "100%|█████████████████████████████████████████| 100/100 [04:14<00:00,  2.54s/it]\n",
      "100%|█████████████████████████████████████████| 100/100 [04:13<00:00,  2.53s/it]\n",
      "100%|█████████████████████████████████████████| 100/100 [04:45<00:00,  2.85s/it]\n",
      "100%|█████████████████████████████████████████| 100/100 [04:05<00:00,  2.46s/it]\n",
      "100%|█████████████████████████████████████████| 100/100 [04:05<00:00,  2.45s/it]\n",
      "100%|█████████████████████████████████████████| 100/100 [04:11<00:00,  2.51s/it]\n",
      "100%|█████████████████████████████████████████| 100/100 [04:41<00:00,  2.81s/it]\n",
      "100%|█████████████████████████████████████████| 100/100 [07:24<00:00,  4.44s/it]\n",
      "100%|█████████████████████████████████████████| 100/100 [08:11<00:00,  4.91s/it]\n",
      "100%|█████████████████████████████████████████| 100/100 [09:02<00:00,  5.42s/it]\n",
      "100%|█████████████████████████████████████████| 100/100 [09:17<00:00,  5.58s/it]\n",
      "100%|█████████████████████████████████████████| 100/100 [07:37<00:00,  4.57s/it]\n",
      "100%|█████████████████████████████████████████| 100/100 [04:16<00:00,  2.57s/it]\n",
      "100%|█████████████████████████████████████████| 100/100 [04:34<00:00,  2.74s/it]\n",
      "100%|█████████████████████████████████████████| 100/100 [04:12<00:00,  2.53s/it]\n",
      "100%|█████████████████████████████████████████| 100/100 [04:24<00:00,  2.64s/it]\n",
      "100%|█████████████████████████████████████████| 100/100 [04:21<00:00,  2.61s/it]\n",
      "100%|█████████████████████████████████████████| 100/100 [04:24<00:00,  2.64s/it]\n",
      "100%|█████████████████████████████████████████| 100/100 [04:22<00:00,  2.62s/it]\n",
      "100%|█████████████████████████████████████████| 100/100 [04:22<00:00,  2.62s/it]\n",
      "100%|█████████████████████████████████████████| 100/100 [04:06<00:00,  2.47s/it]\n",
      "100%|█████████████████████████████████████████| 100/100 [04:25<00:00,  2.65s/it]\n",
      "100%|█████████████████████████████████████████| 100/100 [04:28<00:00,  2.68s/it]\n",
      "100%|█████████████████████████████████████████| 100/100 [05:04<00:00,  3.04s/it]\n",
      "100%|█████████████████████████████████████████| 100/100 [04:26<00:00,  2.66s/it]\n",
      "100%|█████████████████████████████████████████| 100/100 [04:08<00:00,  2.49s/it]\n",
      "100%|█████████████████████████████████████████| 100/100 [04:22<00:00,  2.62s/it]\n",
      "100%|█████████████████████████████████████████| 100/100 [04:43<00:00,  2.84s/it]\n",
      "100%|█████████████████████████████████████████| 100/100 [04:27<00:00,  2.67s/it]\n",
      "100%|█████████████████████████████████████████| 100/100 [04:26<00:00,  2.66s/it]\n",
      "100%|█████████████████████████████████████████| 100/100 [04:16<00:00,  2.57s/it]\n",
      "100%|█████████████████████████████████████████| 100/100 [04:17<00:00,  2.58s/it]\n",
      "100%|█████████████████████████████████████████| 100/100 [04:35<00:00,  2.75s/it]\n",
      "100%|█████████████████████████████████████████| 100/100 [04:06<00:00,  2.47s/it]\n",
      "100%|█████████████████████████████████████████| 100/100 [04:07<00:00,  2.47s/it]\n",
      "100%|█████████████████████████████████████████| 100/100 [04:09<00:00,  2.49s/it]\n",
      "100%|█████████████████████████████████████████| 100/100 [04:13<00:00,  2.53s/it]\n",
      "100%|█████████████████████████████████████████| 100/100 [04:13<00:00,  2.53s/it]\n",
      "100%|█████████████████████████████████████████| 100/100 [04:12<00:00,  2.52s/it]\n",
      "100%|█████████████████████████████████████████| 100/100 [04:08<00:00,  2.48s/it]\n",
      "100%|█████████████████████████████████████████| 100/100 [04:06<00:00,  2.46s/it]\n",
      "100%|█████████████████████████████████████████| 100/100 [04:09<00:00,  2.49s/it]\n",
      "100%|█████████████████████████████████████████| 100/100 [04:39<00:00,  2.80s/it]\n",
      "100%|█████████████████████████████████████████| 100/100 [04:43<00:00,  2.84s/it]\n",
      "100%|█████████████████████████████████████████| 100/100 [04:04<00:00,  2.45s/it]\n",
      "100%|█████████████████████████████████████████| 100/100 [04:13<00:00,  2.54s/it]\n",
      "100%|█████████████████████████████████████████| 100/100 [04:09<00:00,  2.49s/it]\n",
      "100%|█████████████████████████████████████████| 100/100 [04:14<00:00,  2.54s/it]\n",
      "100%|█████████████████████████████████████████| 100/100 [04:10<00:00,  2.50s/it]\n",
      "100%|█████████████████████████████████████████| 100/100 [04:27<00:00,  2.67s/it]\n",
      "100%|█████████████████████████████████████████| 100/100 [04:17<00:00,  2.58s/it]\n",
      "100%|█████████████████████████████████████████| 100/100 [04:10<00:00,  2.50s/it]\n",
      "100%|█████████████████████████████████████████| 100/100 [04:13<00:00,  2.53s/it]\n",
      "100%|█████████████████████████████████████████| 100/100 [04:05<00:00,  2.46s/it]\n",
      "100%|█████████████████████████████████████████| 100/100 [04:07<00:00,  2.47s/it]\n",
      "100%|█████████████████████████████████████████| 100/100 [04:16<00:00,  2.57s/it]\n",
      "100%|█████████████████████████████████████████| 100/100 [04:09<00:00,  2.50s/it]\n",
      "100%|█████████████████████████████████████████| 100/100 [04:06<00:00,  2.47s/it]\n",
      "100%|█████████████████████████████████████████| 100/100 [04:13<00:00,  2.54s/it]\n",
      "100%|█████████████████████████████████████████| 100/100 [04:14<00:00,  2.55s/it]\n",
      "100%|█████████████████████████████████████████| 100/100 [04:09<00:00,  2.49s/it]\n",
      "100%|█████████████████████████████████████████| 100/100 [04:10<00:00,  2.51s/it]\n",
      "100%|█████████████████████████████████████████| 100/100 [04:53<00:00,  2.94s/it]\n",
      "100%|█████████████████████████████████████████| 100/100 [04:15<00:00,  2.55s/it]\n",
      "100%|█████████████████████████████████████████| 100/100 [04:28<00:00,  2.68s/it]\n",
      "100%|█████████████████████████████████████████| 100/100 [04:08<00:00,  2.48s/it]\n",
      "100%|█████████████████████████████████████████| 100/100 [05:40<00:00,  3.41s/it]\n",
      "100%|█████████████████████████████████████████| 100/100 [04:52<00:00,  2.92s/it]\n",
      "100%|█████████████████████████████████████████| 100/100 [04:11<00:00,  2.51s/it]\n",
      "100%|█████████████████████████████████████████| 100/100 [04:07<00:00,  2.48s/it]\n",
      "100%|█████████████████████████████████████████| 100/100 [04:17<00:00,  2.58s/it]\n",
      "100%|█████████████████████████████████████████| 100/100 [04:20<00:00,  2.60s/it]\n",
      "100%|█████████████████████████████████████████| 100/100 [04:10<00:00,  2.51s/it]\n",
      "100%|█████████████████████████████████████████| 100/100 [04:13<00:00,  2.54s/it]\n",
      "100%|█████████████████████████████████████████| 100/100 [04:15<00:00,  2.55s/it]\n",
      "100%|█████████████████████████████████████████| 100/100 [04:11<00:00,  2.52s/it]\n",
      "100%|█████████████████████████████████████████| 100/100 [04:07<00:00,  2.47s/it]\n",
      "100%|█████████████████████████████████████████| 100/100 [04:07<00:00,  2.48s/it]\n",
      "100%|█████████████████████████████████████████| 100/100 [04:11<00:00,  2.51s/it]\n",
      "100%|█████████████████████████████████████████| 100/100 [04:22<00:00,  2.63s/it]\n",
      "100%|█████████████████████████████████████████| 100/100 [05:07<00:00,  3.08s/it]\n",
      "100%|█████████████████████████████████████████| 100/100 [04:10<00:00,  2.50s/it]\n",
      "100%|█████████████████████████████████████████| 100/100 [04:11<00:00,  2.52s/it]\n",
      "100%|█████████████████████████████████████████| 100/100 [04:20<00:00,  2.61s/it]\n",
      "100%|█████████████████████████████████████████| 100/100 [04:32<00:00,  2.73s/it]\n",
      "100%|█████████████████████████████████████████| 100/100 [04:13<00:00,  2.54s/it]\n",
      "100%|█████████████████████████████████████████| 100/100 [04:39<00:00,  2.79s/it]\n",
      "100%|█████████████████████████████████████████| 100/100 [04:16<00:00,  2.57s/it]\n"
     ]
    }
   ],
   "source": [
    "# i=56\n",
    "for i in range(100):\n",
    "    string = os.listdir('/home/anibal-pc/figures_final_makler/uT_curves/')[i]\n",
    "    # Cargar datos\n",
    "    data = np.load('/home/anibal-pc/figures_final_makler/uT_curves/' + string)\n",
    "    u_thr = data['arr_0']\n",
    "    dl_ds = data['arr_1']\n",
    "    \n",
    "    ini = string.index('1e-')+3\n",
    "    fin = string.index('_NOT')\n",
    "    m = 10**float(string[ini:fin])\n",
    "    # print(m)\n",
    "    x, uT = interp(dl_ds,u_thr)\n",
    "    t_hat , dgama_dt = Dgama_Dt(m, x, uT)\n",
    "    np.savez('/home/anibal-pc/figures_final_makler/dgama_dt_fs/dgama_dt_'+str(np.log10(m)), dgama_dt, t_hat)\n",
    "\n"
   ]
  },
  {
   "cell_type": "code",
   "execution_count": 52,
   "id": "d9b15e84-1ccb-406c-9a61-66658584c3c9",
   "metadata": {},
   "outputs": [
    {
     "data": {
      "text/plain": [
       "0.6020599913279624"
      ]
     },
     "execution_count": 52,
     "metadata": {},
     "output_type": "execute_result"
    }
   ],
   "source": [
    "# np.log10(4)"
   ]
  },
  {
   "cell_type": "code",
   "execution_count": 57,
   "id": "7c54ff94-0109-4541-a2d5-9f0239688cf2",
   "metadata": {},
   "outputs": [
    {
     "data": {
      "text/plain": [
       "14400.0"
      ]
     },
     "execution_count": 57,
     "metadata": {},
     "output_type": "execute_result"
    }
   ],
   "source": [
    "# print(np.logspace(-2,  np.log10(4),100))#*u.hour\n",
    "\n",
    "4*u.hour.to(\"s\")"
   ]
  },
  {
   "cell_type": "code",
   "execution_count": 48,
   "id": "3f17dd27-1b9f-47a4-9625-0f61100ff0cf",
   "metadata": {},
   "outputs": [],
   "source": [
    "# np.logspace(-2, 1, 100)*u.hour.to('s')"
   ]
  },
  {
   "cell_type": "code",
   "execution_count": 11,
   "id": "ef2f3d45-d625-499d-b72b-acfcc05a7371",
   "metadata": {},
   "outputs": [
    {
     "name": "stderr",
     "output_type": "stream",
     "text": [
      "  0%|                                                   | 0/100 [00:00<?, ?it/s]\n"
     ]
    },
    {
     "ename": "RuntimeError",
     "evalue": "Unknown backend: 'gpu' requested, but no platforms that are instances of gpu are present. Platforms present are: cpu",
     "output_type": "error",
     "traceback": [
      "\u001b[0;31m---------------------------------------------------------------------------\u001b[0m",
      "\u001b[0;31mRuntimeError\u001b[0m                              Traceback (most recent call last)",
      "Cell \u001b[0;32mIn[11], line 26\u001b[0m\n\u001b[1;32m     21\u001b[0m \u001b[38;5;66;03m# print(t)\u001b[39;00m\n\u001b[1;32m     22\u001b[0m \u001b[38;5;66;03m# print(len(t))\u001b[39;00m\n\u001b[1;32m     23\u001b[0m \n\u001b[1;32m     24\u001b[0m \u001b[38;5;66;03m# plt.plot(t,dgdt)\u001b[39;00m\n\u001b[1;32m     25\u001b[0m masses\u001b[38;5;241m.\u001b[39mappend(m)\n\u001b[0;32m---> 26\u001b[0m nexp\u001b[38;5;241m.\u001b[39mappend(trapezoid(dgdt, t, dx \u001b[38;5;241m=\u001b[39m \u001b[38;5;241m1e-20\u001b[39m))\n",
      "    \u001b[0;31m[... skipping hidden 13 frame]\u001b[0m\n",
      "File \u001b[0;32m~/anaconda3/lib/python3.12/site-packages/jax/_src/xla_bridge.py:831\u001b[0m, in \u001b[0;36mcanonicalize_platform\u001b[0;34m(platform)\u001b[0m\n\u001b[1;32m    829\u001b[0m   \u001b[38;5;28;01mif\u001b[39;00m p \u001b[38;5;129;01min\u001b[39;00m b\u001b[38;5;241m.\u001b[39mkeys():\n\u001b[1;32m    830\u001b[0m     \u001b[38;5;28;01mreturn\u001b[39;00m p\n\u001b[0;32m--> 831\u001b[0m \u001b[38;5;28;01mraise\u001b[39;00m \u001b[38;5;167;01mRuntimeError\u001b[39;00m(\u001b[38;5;124mf\u001b[39m\u001b[38;5;124m\"\u001b[39m\u001b[38;5;124mUnknown backend: \u001b[39m\u001b[38;5;124m'\u001b[39m\u001b[38;5;132;01m{\u001b[39;00mplatform\u001b[38;5;132;01m}\u001b[39;00m\u001b[38;5;124m'\u001b[39m\u001b[38;5;124m requested, but no \u001b[39m\u001b[38;5;124m\"\u001b[39m\n\u001b[1;32m    832\u001b[0m                    \u001b[38;5;124mf\u001b[39m\u001b[38;5;124m\"\u001b[39m\u001b[38;5;124mplatforms that are instances of \u001b[39m\u001b[38;5;132;01m{\u001b[39;00mplatform\u001b[38;5;132;01m}\u001b[39;00m\u001b[38;5;124m are present. \u001b[39m\u001b[38;5;124m\"\u001b[39m\n\u001b[1;32m    833\u001b[0m                    \u001b[38;5;124m\"\u001b[39m\u001b[38;5;124mPlatforms present are: \u001b[39m\u001b[38;5;124m\"\u001b[39m \u001b[38;5;241m+\u001b[39m \u001b[38;5;124m\"\u001b[39m\u001b[38;5;124m,\u001b[39m\u001b[38;5;124m\"\u001b[39m\u001b[38;5;241m.\u001b[39mjoin(b\u001b[38;5;241m.\u001b[39mkeys()))\n",
      "\u001b[0;31mRuntimeError\u001b[0m: Unknown backend: 'gpu' requested, but no platforms that are instances of gpu are present. Platforms present are: cpu"
     ]
    }
   ],
   "source": [
    "import os\n",
    "import numpy as np\n",
    "import astropy.units as u\n",
    "from tqdm import tqdm\n",
    "from jax.scipy.integrate import trapezoid\n",
    "\n",
    "\n",
    "nexp = []\n",
    "masses = []\n",
    "for i in tqdm(range(100)):\n",
    "    string = os.listdir('/home/anibal-pc/figures_final_makler/uT_curves/')[i]\n",
    "    ini = string.index('1e-')+3\n",
    "    fin = string.index('_NOT')\n",
    "    m = 10**float(string[ini:fin])\n",
    "    data = np.load('/home/anibal-pc/figures_final_makler/dgama_dt_fs/dgama_dt_'+str(np.log10(m))+'.npz')\n",
    "    time = data['arr_1']*3600\n",
    "    \n",
    "    t = time[time<4*u.hour.to(\"s\")]    \n",
    "    dgdt = data['arr_0'][time<4*u.hour.to(\"s\")]\n",
    "\n",
    "    # print(t)\n",
    "    # print(len(t))\n",
    "    \n",
    "    # plt.plot(t,dgdt)\n",
    "    masses.append(m)\n",
    "    nexp.append(trapezoid(dgdt, t, dx = 1e-20))"
   ]
  },
  {
   "cell_type": "code",
   "execution_count": 87,
   "id": "312bf87b-491b-4061-9790-61901739fc2b",
   "metadata": {},
   "outputs": [],
   "source": [
    "# nexp\n",
    "# masses"
   ]
  },
  {
   "cell_type": "code",
   "execution_count": 99,
   "id": "7cb99d25-372b-48d4-8abd-9a5cba60edcb",
   "metadata": {},
   "outputs": [
    {
     "data": {
      "image/png": "[encoded data removed]",
      "text/plain": [
       "<Figure size 640x480 with 1 Axes>"
      ]
     },
     "metadata": {},
     "output_type": "display_data"
    }
   ],
   "source": [
    "# plt.plot(t_hat, dgama_dt)\n",
    "M = np.array(masses)\n",
    "Nexp = np.array(nexp)*1e4\n",
    "plt.plot(M , Nexp, marker='.', ls='')\n",
    "plt.ylim(0,2e+3)\n",
    "plt.xscale(\"log\")\n",
    "# plt.ylim(10**(-8),10**(-2))"
   ]
  },
  {
   "cell_type": "code",
   "execution_count": 104,
   "id": "6a9a78d2-fcf1-4969-8578-ab480319f475",
   "metadata": {},
   "outputs": [],
   "source": [
    "# M"
   ]
  },
  {
   "cell_type": "code",
   "execution_count": 100,
   "id": "38064c40-3307-4e81-8038-c613e577b8fd",
   "metadata": {},
   "outputs": [
    {
     "data": {
      "image/png": "[encoded data removed]",
      "text/plain": [
       "<Figure size 640x480 with 1 Axes>"
      ]
     },
     "metadata": {},
     "output_type": "display_data"
    }
   ],
   "source": [
    "plt.plot(M , 4.74/Nexp, marker='.', ls='')\n",
    "plt.ylim(2e-8,1)\n",
    "plt.xscale(\"log\")\n",
    "plt.yscale(\"log\")"
   ]
  },
  {
   "cell_type": "code",
   "execution_count": null,
   "id": "598b3c97-4bc1-4090-be7c-beab85ff6b3d",
   "metadata": {},
   "outputs": [],
   "source": []
  }
 ],
 "metadata": {
  "kernelspec": {
   "display_name": "Python 3 (ipykernel)",
   "language": "python",
   "name": "python3"
  },
  "language_info": {
   "codemirror_mode": {
    "name": "ipython",
    "version": 3
   },
   "file_extension": ".py",
   "mimetype": "text/x-python",
   "name": "python",
   "nbconvert_exporter": "python",
   "pygments_lexer": "ipython3",
   "version": "3.12.2"
  }
 },
 "nbformat": 4,
 "nbformat_minor": 5
}
