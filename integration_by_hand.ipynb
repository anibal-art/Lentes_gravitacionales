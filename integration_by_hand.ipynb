{
 "cells": [
  {
   "cell_type": "code",
   "execution_count": 1,
   "id": "1f667c20-77c6-41bb-891e-2665d4530d91",
   "metadata": {},
   "outputs": [
    {
     "name": "stdout",
     "output_type": "stream",
     "text": [
      "Plataforma por defecto: gpu\n",
      "Dispositivos disponibles: [CudaDevice(id=0)]\n"
     ]
    }
   ],
   "source": [
    "import numpy as np\n",
    "import matplotlib.pyplot as plt\n",
    "from astropy import units as u\n",
    "from astropy import constants as C\n",
    "import scipy.integrate as integrate\n",
    "from scipy.integrate import simpson, dblquad\n",
    "from event_rate import dif_event_rate, integrand_jax, integrand_jax_m31, double_integral_2d\n",
    "from tqdm import tqdm\n",
    "import time\n",
    "import os\n",
    "import jax\n",
    "import jax.numpy as jnp\n",
    "from jax import vmap\n",
    "from jax.scipy.integrate import trapezoid\n",
    "\n",
    "os.environ[\"JAX_PLATFORM_NAME\"] = \"gpu\"\n",
    "print(\"Plataforma por defecto:\", jax.default_backend())\n",
    "print(\"Dispositivos disponibles:\", jax.devices())\n",
    "jax.config.update(\"jax_enable_x64\", True)"
   ]
  },
  {
   "cell_type": "code",
   "execution_count": 2,
   "id": "85689e34-6677-4041-a061-b48403356ecf",
   "metadata": {},
   "outputs": [],
   "source": [
    "def integrand_jax(umin, x, D, rs, rho_c, t, m, l_coord, b_coord, uT):\n",
    "    R0 = 2.622825944267662e+20\n",
    "    # Convertir grados a radianes\n",
    "    b = b_coord * jnp.pi / 180\n",
    "    l = l_coord * jnp.pi / 180\n",
    "\n",
    "    # r(x)\n",
    "    r = jnp.sqrt((x * D)**2 + R0**2 - 2 * R0 * D * x * jnp.cos(b) * jnp.cos(l))\n",
    "    \n",
    "    # rho_NFW\n",
    "    # c = r / rs\n",
    "    c = jnp.maximum(r / rs, 1e-15)\n",
    "    rho = rho_c / (c * (1 + c)**2)\n",
    "\n",
    "    # rE(x)\n",
    "    G = 6.67430e-11  # SI\n",
    "    c_light = 299792458.0  # m/s\n",
    "    k = 4 * G / c_light**2  # SI units\n",
    "    rE = jnp.sqrt(k * m * D * x * (1 - x))  # en m\n",
    "\n",
    "    factor = -c / (1 + c) + jnp.log(1 + c)\n",
    "    Ml = 4 * jnp.pi * factor * rho_c * rs**3\n",
    "    # vc = jnp.sqrt(G * Ml / (r))  # pasar r de kpc a m para SI\n",
    "    vc = jnp.sqrt(G * Ml / jnp.maximum(r, 1e-15))\n",
    "\n",
    "    \n",
    "    # integrando\n",
    "    # u_factor = jnp.sqrt(uT**2 - umin**2)\n",
    "    u_diff_sq = uT**2 - umin**2\n",
    "    u_factor = jnp.sqrt(jnp.maximum(u_diff_sq, 0.0))\n",
    "\n",
    "    # vr = 2 * rE * u_factor / t  # t en horas\n",
    "    vr = 2 * rE * u_factor / jnp.maximum(t, 1e-15)\n",
    "\n",
    "    Q = (vr / vc)**2\n",
    "    exp_fac = jnp.exp(-Q)\n",
    "    f = 1.0\n",
    "    integrando = 2 * D * (1 / u_factor) * rho * exp_fac * Q * vr**2 / m\n",
    "    # print(rs)\n",
    "    # print('u factor sin raiz', u_diff_sq)\n",
    "    # print('Ml',Ml)\n",
    "    # print('vc',vc)\n",
    "    # print('rE', rE)\n",
    "    \n",
    "    # print('u_factor',u_factor)\n",
    "    # print('vr',vr)\n",
    "    # print('Q',Q)\n",
    "    # print('exp_fac',exp_fac)\n",
    "    # print(type(t))\n",
    "    # print(2 * D*t**2  * rho * exp_fac * Q * vr**2 )\n",
    "    return integrando*3600**2\n"
   ]
  },
  {
   "cell_type": "code",
   "execution_count": 9,
   "id": "3dd097ff-90d6-4b61-8410-71ac316dc48e",
   "metadata": {},
   "outputs": [
    {
     "name": "stdout",
     "output_type": "stream",
     "text": [
      "the mass  1.5556761439304722e-06\n"
     ]
    },
    {
     "data": {
      "image/png": "[encoded data removed]",
      "text/plain": [
       "<Figure size 640x480 with 1 Axes>"
      ]
     },
     "metadata": {},
     "output_type": "display_data"
    }
   ],
   "source": [
    "import numpy as np\n",
    "import matplotlib.pyplot as plt\n",
    "from scipy.interpolate import interp1d\n",
    "import os\n",
    "i=56\n",
    "# for i in range\n",
    "string = os.listdir('/home/anibal-pc/figures_final_makler/uT_curves/')[i]\n",
    "# Cargar datos\n",
    "data = np.load('/home/anibal-pc/figures_final_makler/uT_curves/' + string)\n",
    "arr0 = data['arr_0']\n",
    "arr1 = data['arr_1']\n",
    "\n",
    "ini = string.index('1e-')+3\n",
    "fin = string.index('_NOT')\n",
    "m = 10**float(string[ini:fin])\n",
    "print('the mass ', m)\n",
    "\n",
    "# Asegurar orden creciente\n",
    "sorted_indices = np.argsort(arr1)\n",
    "arr1 = arr1[sorted_indices]\n",
    "arr0 = arr0[sorted_indices]\n",
    "\n",
    "# Agregar un punto artificial que decae a 0\n",
    "x_max = arr1[-1]\n",
    "delta = 0.001 * x_max  # un pequeño paso más allá\n",
    "arr1_extended = np.append(arr1, x_max + delta)\n",
    "arr0_extended = np.append(arr0, 0.0)\n",
    "\n",
    "# Interpolador cúbico o lineal (según prefieras)\n",
    "interp_func = interp1d(arr1_extended, arr0_extended, kind='cubic', bounds_error=False, fill_value=0.0)\n",
    "\n",
    "# Interpolación\n",
    "if x_max + delta>1:\n",
    "    limlogmax = 0\n",
    "else:\n",
    "    limlogmax = np.log10(x_max + delta)\n",
    "x_interp = np.logspace(np.log10(arr1[0]), limlogmax , 1000)\n",
    "y_interp = interp_func(x_interp)\n",
    "\n",
    "# Plot\n",
    "plt.plot(arr1_extended, arr0_extended, 'o', label='punto agregado')\n",
    "plt.plot(arr1, arr0, 'o', label='Datos originales')\n",
    "plt.plot(x_interp, y_interp, '-', label='Interpolación')\n",
    "\n",
    "plt.axvline(x_max, color='gray', linestyle='--', label='x_max original')\n",
    "plt.axvline(1)\n",
    "# plt.xlabel(\"x\",fontsize=20)\n",
    "plt.xlabel(r\"$x$\",fontsize=20)\n",
    "plt.ylabel(r\"$u_T$\",fontsize=20)\n",
    "plt.xscale('log')\n",
    "plt.legend()\n",
    "plt.show()\n",
    "\n"
   ]
  },
  {
   "cell_type": "code",
   "execution_count": 4,
   "id": "5cc98754-f4ba-415c-a487-7a5e614b2fdb",
   "metadata": {},
   "outputs": [],
   "source": [
    "def integrate_umin(integrand_ut, x,uT):\n",
    "    umin = jnp.linspace(0,uT-1e-15,1000)\n",
    "    if x<1:\n",
    "        y_vals = integrand_ut(umin,x,uT)    \n",
    "        # plt.plot(umin, y_vals)\n",
    "        return trapezoid(y_vals, umin, dx=1e-20)\n",
    "\n",
    "\n",
    "\n",
    "def integrate_dl(x, integrandx):\n",
    "\n",
    "    result = trapezoid(integrandx, x, dx = 1e-20)\n",
    "    return result\n",
    "\n",
    "def integrate_umin_dl(f, X, UT):\n",
    "    integrand_x = []\n",
    "\n",
    "    for i in range(len(X[X<1])):\n",
    "        x, uT = X[i], UT[i]\n",
    "        integrand_x.append(integrate_umin(f, x, uT))\n",
    "\n",
    "    integrandx = np.array([float(integrand_x[f]) for f in range(len(integrand_x)-1)])\n",
    "    x = X[X<1][0:-1]\n",
    "        \n",
    "    return integrate_dl(x,integrandx)\n"
   ]
  },
  {
   "cell_type": "code",
   "execution_count": 8,
   "id": "4446627a-297d-4056-8fca-3bfbcde38e98",
   "metadata": {},
   "outputs": [],
   "source": [
    "from tqdm import tqdm\n",
    "dgama_dt = []\n",
    "\n",
    "def Dgama_Dt(m, x_interp, y_interp):\n",
    "    t_hat = np.logspace(-2, 1, 100)*u.hour.to('s')\n",
    "    for t_val in tqdm(t_hat):\n",
    "        rho_c_MW = 4.88e6*C.M_sun/u.kpc**3\n",
    "        rs_MW = 21.5*u.kpc\n",
    "        rho_c_M31 = 4.96e6*C.M_sun/u.kpc**3\n",
    "        rs_M31 = 25*u.kpc\n",
    "        uT = 1.5\n",
    "        l,b = 121.2, -21.6 \n",
    "        D = 770*u.kpc\n",
    "        rs_MW_val = rs_MW.to('m').value\n",
    "        rho_c_MW_val = rho_c_MW.to('kg/m^3').value\n",
    "        \n",
    "        rs_M31_val = rs_M31.to('m').value\n",
    "        rho_c_M31_val = rho_c_M31.to('kg/m^3').value\n",
    "        \n",
    "        D_val = D.to('m').value\n",
    "        \n",
    "        l_val = l\n",
    "        b_val = b\n",
    "        \n",
    "        # m_val = m.to('kg').value\n",
    "        M_sun = 1.988409870698051e+30\n",
    "        m_val = m*M_sun\n",
    "        \n",
    "        f_jax_MW = lambda umin, x, uT_val: integrand_jax(umin, x, D=D_val, rs=rs_MW_val, rho_c=rho_c_MW_val,\n",
    "                                           t=t_val, m=m_val, l_coord=l,\n",
    "                                           b_coord=b, uT=uT_val)\n",
    "    \n",
    "        f_jax_M31 = lambda umin, x, uT_val: integrand_jax_m31(umin, x, D=D_val, rs=rs_M31_val, rho_c=rho_c_M31_val,\n",
    "                                       t=t_val, m=m_val, l_coord=l,\n",
    "                                       b_coord=b, uT=uT_val)\n",
    "        \n",
    "        \n",
    "        dgama_dt.append(integrate_umin_dl(f_jax_MW, x_interp, y_interp) + integrate_umin_dl(f_jax_M31, x_interp, y_interp))\n",
    "    return t_hat/3600 , np.array(dgama_dt)\n",
    "\n",
    "\n",
    "    # trapezoid(np.array([float(integrand_x[f]) for f in range(len(integrand_x)-1)]),x_interp[x_interp<1][0:-1], dx=1e-15)"
   ]
  },
  {
   "cell_type": "code",
   "execution_count": null,
   "id": "c7050a65-f18c-4348-ad9b-1c6e50636736",
   "metadata": {},
   "outputs": [
    {
     "name": "stderr",
     "output_type": "stream",
     "text": [
      " 61%|█████████████████████████▌                | 61/100 [02:30<01:35,  2.45s/it]"
     ]
    }
   ],
   "source": [
    "t_hat , dgama_dt = Dgama_Dt(m, x_interp, y_interp)"
   ]
  },
  {
   "cell_type": "code",
   "execution_count": 7,
   "id": "7cb99d25-372b-48d4-8abd-9a5cba60edcb",
   "metadata": {},
   "outputs": [
    {
     "data": {
      "text/plain": [
       "(1e-08, 0.01)"
      ]
     },
     "execution_count": 7,
     "metadata": {},
     "output_type": "execute_result"
    },
    {
     "data": {
      "image/png": "[encoded data removed]",
      "text/plain": [
       "<Figure size 640x480 with 1 Axes>"
      ]
     },
     "metadata": {},
     "output_type": "display_data"
    }
   ],
   "source": [
    "# plt.plot(t_hat, dgama_dt)\n",
    "plt.loglog(t_hat , dgama_dt)\n",
    "\n",
    "plt.ylim(10**(-8),10**(-2))"
   ]
  },
  {
   "cell_type": "code",
   "execution_count": 19,
   "id": "be6025da-680d-4052-9902-2870bb93f1da",
   "metadata": {},
   "outputs": [],
   "source": [
    "# m_val = m* u.M_sun.to('kg')\n",
    "# m_val"
   ]
  },
  {
   "cell_type": "code",
   "execution_count": 86,
   "id": "9206ccb0-820b-4c27-8814-aaecc51e303f",
   "metadata": {},
   "outputs": [
    {
     "data": {
      "text/plain": [
       "100"
      ]
     },
     "execution_count": 86,
     "metadata": {},
     "output_type": "execute_result"
    }
   ],
   "source": [
    "len(np.array(dgama_dt))"
   ]
  },
  {
   "cell_type": "code",
   "execution_count": null,
   "id": "598b3c97-4bc1-4090-be7c-beab85ff6b3d",
   "metadata": {},
   "outputs": [],
   "source": []
  }
 ],
 "metadata": {
  "kernelspec": {
   "display_name": "Python 3 (ipykernel)",
   "language": "python",
   "name": "python3"
  },
  "language_info": {
   "codemirror_mode": {
    "name": "ipython",
    "version": 3
   },
   "file_extension": ".py",
   "mimetype": "text/x-python",
   "name": "python",
   "nbconvert_exporter": "python",
   "pygments_lexer": "ipython3",
   "version": "3.12.2"
  }
 },
 "nbformat": 4,
 "nbformat_minor": 5
}
