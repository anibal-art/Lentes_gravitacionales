{
 "cells": [
  {
   "cell_type": "markdown",
   "id": "614e53ea-e48e-427a-9517-aebc5b285527",
   "metadata": {},
   "source": [
    "# Profundidad optica"
   ]
  },
  {
   "cell_type": "code",
   "execution_count": 3,
   "id": "567af0ff-61b6-4334-8f10-78032498b3a6",
   "metadata": {},
   "outputs": [],
   "source": [
    "import numpy as np\n",
    "import matplotlib.pyplot as plt\n",
    "from scipy import integrate\n",
    "from scipy.integrate import quad\n",
    "from scipy import special\n",
    "from mpmath import hyp1f1\n",
    "import mpmath as mp\n",
    "from scipy.integrate import dblquad\n",
    "from multiprocessing import Pool\n",
    "from functools import partial\n",
    "import astropy.constants as c\n",
    "import astropy.units as u\n",
    "# import sympy as sp\n",
    "import math"
   ]
  },
  {
   "cell_type": "markdown",
   "id": "271569bf-1f27-4d87-b312-c917623945b4",
   "metadata": {},
   "source": [
    "La profundidad Optica es\n",
    "$$\\tau = \\int_0^{ D_S} \\frac{\\rho(x)}{m}\\pi u_T^2 R_E(x)^2 dx$$\n",
    "consideramos $x = D_L/D_S$"
   ]
  },
  {
   "cell_type": "code",
   "execution_count": 19,
   "id": "a5f26945-b7a2-481d-b252-6eded12d767e",
   "metadata": {},
   "outputs": [],
   "source": [
    "rho_0 = 7.9e-3*c.M_sun/(u.pc)**3\n",
    "pi    = np.pi\n",
    "a     = 5*u.kpc \n",
    "R_0   = 8.5*u.kpc \n",
    "D_S   = np.array([1,5,10,55])*u.kpc"
   ]
  },
  {
   "cell_type": "code",
   "execution_count": 20,
   "id": "983570dd-3416-4127-b29f-50a0c1b62540",
   "metadata": {},
   "outputs": [],
   "source": [
    "def integrand_OD_KG(x,angle,D_s):\n",
    "    A     = (a**2+R_0**2)/D_s**2\n",
    "    B     = R_0/D_s\n",
    "    tau_0 = (4*pi*c.G*rho_0*(a**2+R_0**2))/(c.c**2) #4.61*10**-7\n",
    "    return tau_0*x*(1-x)/(x**2+A-2*x*B*angle)"
   ]
  },
  {
   "cell_type": "code",
   "execution_count": 21,
   "id": "1a97dad5-73e4-4627-a62b-ecfcd292c311",
   "metadata": {},
   "outputs": [
    {
     "name": "stdout",
     "output_type": "stream",
     "text": [
      "5.104534452369212e-07\n"
     ]
    }
   ],
   "source": [
    "angle_lmc = np.cos(math.radians(-32.8))*np.cos(math.radians(281))\n",
    "tau_lmc_0 = integrate.fixed_quad(lambda x: integrand_OD_KG(x,angle_lmc, D_S[3]), 0, 1,n=10)\n",
    "tau_lmc   = tau_lmc_0[0]\n",
    "print(tau_lmc.decompose())"
   ]
  }
 ],
 "metadata": {
  "kernelspec": {
   "display_name": "PyLIMA",
   "language": "python",
   "name": "pylima"
  },
  "language_info": {
   "codemirror_mode": {
    "name": "ipython",
    "version": 3
   },
   "file_extension": ".py",
   "mimetype": "text/x-python",
   "name": "python",
   "nbconvert_exporter": "python",
   "pygments_lexer": "ipython3",
   "version": "3.9.20"
  }
 },
 "nbformat": 4,
 "nbformat_minor": 5
}
