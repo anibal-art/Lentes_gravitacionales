{
 "cells": [
  {
   "cell_type": "markdown",
   "id": "614e53ea-e48e-427a-9517-aebc5b285527",
   "metadata": {},
   "source": [
    "# Profundidad optica"
   ]
  },
  {
   "cell_type": "code",
   "execution_count": 1,
   "id": "567af0ff-61b6-4334-8f10-78032498b3a6",
   "metadata": {},
   "outputs": [],
   "source": [
    "import numpy as np\n",
    "import matplotlib.pyplot as plt\n",
    "from scipy import integrate\n",
    "from scipy.integrate import quad\n",
    "from scipy import special\n",
    "from mpmath import hyp1f1\n",
    "import mpmath as mp\n",
    "from scipy.integrate import dblquad\n",
    "from multiprocessing import Pool\n",
    "from functools import partial\n",
    "import astropy.constants as c\n",
    "import astropy.units as u\n",
    "# import sympy as sp\n",
    "import math"
   ]
  },
  {
   "cell_type": "markdown",
   "id": "271569bf-1f27-4d87-b312-c917623945b4",
   "metadata": {},
   "source": [
    "La profundidad Optica es\n",
    "$$\\tau = \\int_0^{ D_S} \\frac{\\rho(x)}{m}\\pi u_T^2 R_E(x)^2 dx$$\n",
    "consideramos $x = D_L/D_S$, $u_T=1$, $D_S=8Kpc$\n",
    "\n",
    "La cantidad $\\frac{R_E(x)^2}{m} = \\kappa \\pi D_s^2 x(1-x)$\n",
    "\n",
    "Por un lado la densidad de esfera isoterma es\n",
    "\n",
    "$$\\rho(x) = \\frac{R_{sol}^2+R_c^2}{R_c^2+r(x)^2} $$\n",
    "\n",
    "Por otro lado la densidad de NFW\n",
    "$$\\rho(x) = \\frac{\\rho_0}{\\frac{r(x)}{R_s}\\left(1+\\frac{r(x)}{R_s}\\right)^2} $$\n",
    "\n",
    "con $$ r(x) = \\sqrt{R_S^2 + (D_S x)^2 - 2 D_S Rs  x  \\cos(l)\\cos(b))}$$"
   ]
  },
  {
   "cell_type": "code",
   "execution_count": null,
   "id": "3cbfb643-6892-4e14-9122-6eeb30c885a0",
   "metadata": {},
   "outputs": [],
   "source": []
  },
  {
   "cell_type": "code",
   "execution_count": 2,
   "id": "a5f26945-b7a2-481d-b252-6eded12d767e",
   "metadata": {},
   "outputs": [],
   "source": [
    "rho_0 = 7.9e-3*c.M_sun/(u.pc)**3\n",
    "pi    = np.pi\n",
    "a     = 5*u.kpc \n",
    "R_0   = 8.5*u.kpc \n",
    "D_S   = np.array([1,5,10,55])*u.kpc"
   ]
  },
  {
   "cell_type": "code",
   "execution_count": 3,
   "id": "983570dd-3416-4127-b29f-50a0c1b62540",
   "metadata": {},
   "outputs": [],
   "source": [
    "def integrand_OD_KG(x,angle,D_s):\n",
    "    A     = (a**2+R_0**2)/D_s**2\n",
    "    B     = R_0/D_s\n",
    "    tau_0 = (4*pi*c.G*rho_0*(a**2+R_0**2))/(c.c**2) #4.61*10**-7\n",
    "    return tau_0*x*(1-x)/(x**2+A-2*x*B*angle)"
   ]
  },
  {
   "cell_type": "code",
   "execution_count": 4,
   "id": "1a97dad5-73e4-4627-a62b-ecfcd292c311",
   "metadata": {},
   "outputs": [
    {
     "name": "stdout",
     "output_type": "stream",
     "text": [
      "5.104534452369212e-07\n"
     ]
    }
   ],
   "source": [
    "angle_lmc = np.cos(math.radians(-32.8))*np.cos(math.radians(281))\n",
    "tau_lmc_0 = integrate.fixed_quad(lambda x: integrand_OD_KG(x,angle_lmc, D_S[3]), 0, 1,n=10)\n",
    "tau_lmc   = tau_lmc_0[0]\n",
    "print(tau_lmc.decompose())"
   ]
  },
  {
   "cell_type": "code",
   "execution_count": null,
   "id": "216b5f82-927c-4488-b66e-23379d57a179",
   "metadata": {},
   "outputs": [],
   "source": []
  },
  {
   "cell_type": "code",
   "execution_count": 8,
   "id": "50956919-d606-411e-ae50-b6bddb22a07e",
   "metadata": {
    "tags": []
   },
   "outputs": [
    {
     "name": "stdout",
     "output_type": "stream",
     "text": [
      "Integrated Optical Depth (Isothermal Sphere): 5.104534452369212e-07\n",
      "Integrated Optical Depth (Navarro Frenk White): 3.943342232943051e-07\n"
     ]
    }
   ],
   "source": [
    "import numpy as np\n",
    "import math\n",
    "import astropy.units as u\n",
    "import astropy.constants as c\n",
    "from scipy.integrate import fixed_quad\n",
    "\n",
    "def pos_sol(x):\n",
    "    '''\n",
    "    Calculates the position of the Sun relative to the Galactic center.\n",
    "\n",
    "    Parameters:\n",
    "    x (float): Fractional distance parameter, 0 ≤ x ≤ 1.\n",
    "\n",
    "    Returns:\n",
    "    r (Quantity): Distance of the Sun from the Galactic center in kiloparsecs.\n",
    "    '''\n",
    "    l = -32.8  # Galactic longitude in degrees\n",
    "    b = 281  # Galactic latitude in degrees\n",
    "    Ds = 55 * u.kpc  # Distance to the source in kiloparsecs\n",
    "    angle = np.cos(math.radians(l)) * np.cos(math.radians(b))\n",
    "    Rs = 8.5 * u.kpc  # Distance of the Sun from the Galactic center in kiloparsecs\n",
    "    r = np.sqrt(Rs**2 + (Ds * x)**2 - 2 * Rs * (x * Ds) * angle)\n",
    "    return r\n",
    "\n",
    "def rho_NFW(r):\n",
    "    '''    \n",
    "    Navarro-Frenk-White (NFW) density profile for dark matter distribution.\n",
    "\n",
    "    Parameters:\n",
    "    r (Quantity): Distance from the Galactic center in kiloparsecs.\n",
    "\n",
    "    Returns:\n",
    "    density (Quantity): NFW density at distance r in units of solar masses per cubic kiloparsec.\n",
    "    '''\n",
    "    Rs = 21.5 * u.kpc  # Scale radius in kiloparsecs\n",
    "    rho0 = 4.88e+6 * c.M_sun / u.kpc**3  # Characteristic density\n",
    "    q = r / Rs\n",
    "    bot = q * (1 + q)**2\n",
    "    return rho0 / bot\n",
    "\n",
    "def rho_iso(r):\n",
    "    '''\n",
    "    Isothermal sphere density profile.\n",
    "\n",
    "    Parameters:\n",
    "    r (Quantity): Distance from the Galactic center in kiloparsecs.\n",
    "\n",
    "    Returns:\n",
    "    density (Quantity): Density at distance r in units of solar masses per cubic kiloparsec.\n",
    "    '''\n",
    "    rho0 = 7.9e-3 * c.M_sun / (u.pc)**3  # Central density in solar masses per cubic parsec\n",
    "    Rsol = 8.5 * u.kpc  # Solar distance to the Galactic center in kiloparsecs\n",
    "    Rc = 5 * u.kpc  # Core radius in kiloparsecs\n",
    "    top = rho0 * (Rsol**2 + Rc**2)\n",
    "    bot = r**2 + Rc**2\n",
    "    return top / bot\n",
    "\n",
    "def Einstein_angle_sq_m(x):\n",
    "    '''\n",
    "    Computes the squared Einstein angle times the distance to the lens (Dl) times the lens mass (M).\n",
    "\n",
    "    Parameters:\n",
    "    x (float): Fractional distance parameter, 0 ≤ x ≤ 1.\n",
    "\n",
    "    Returns:\n",
    "    Quantity: Squared Einstein angle times Dl times M in units of meters squared kilograms.\n",
    "    '''\n",
    "    Ds = 55 * u.kpc  # Distance to the source in kiloparsecs\n",
    "    k = 4 * c.G / c.c**2  # Constant related to the gravitational lensing effect\n",
    "    return (k * x * (1 - x) * Ds**2)\n",
    "\n",
    "def int_optical_depth(rho, x):\n",
    "    '''\n",
    "    Computes the integrand for optical depth calculation.\n",
    "\n",
    "    Parameters:\n",
    "    rho (function): Density function (either rho_NFW or rho_iso).\n",
    "    x (float): Fractional distance parameter, 0 ≤ x ≤ 1.\n",
    "\n",
    "    Returns:\n",
    "    float: Integrand value for optical depth.\n",
    "    '''\n",
    "    r = pos_sol(x)\n",
    "    einstein_radius_sq_m = Einstein_angle_sq_m(x)\n",
    "    optical_depth_integrand = (np.pi * rho(r) * einstein_radius_sq_m)\n",
    "    return optical_depth_integrand.decompose().value  # Strip units for integration\n",
    "\n",
    "# Perform the integration over x from 0 to 1 using the fixed_quad method\n",
    "optical_depth_iso, _ = fixed_quad(lambda x: int_optical_depth(rho_iso, x), 0, 1, n=10)\n",
    "optical_depth_NFW, _ = fixed_quad(lambda x: int_optical_depth(rho_NFW, x), 0, 1, n=10)\n",
    "print(\"Integrated Optical Depth (Isothermal Sphere):\", optical_depth_iso)\n",
    "print(\"Integrated Optical Depth (Navarro Frenk White):\", optical_depth_NFW)\n"
   ]
  },
  {
   "cell_type": "code",
   "execution_count": null,
   "id": "70fbf7bf-01c3-42d7-9b73-cf48e48406d6",
   "metadata": {},
   "outputs": [],
   "source": [
    "\n"
   ]
  }
 ],
 "metadata": {
  "kernelspec": {
   "display_name": "pyLIMA-pip",
   "language": "python",
   "name": "pylima-pip"
  },
  "language_info": {
   "codemirror_mode": {
    "name": "ipython",
    "version": 3
   },
   "file_extension": ".py",
   "mimetype": "text/x-python",
   "name": "python",
   "nbconvert_exporter": "python",
   "pygments_lexer": "ipython3",
   "version": "3.11.5"
  }
 },
 "nbformat": 4,
 "nbformat_minor": 5
}
