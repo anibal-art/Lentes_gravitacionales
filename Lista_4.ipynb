{
 "cells": [
  {
   "cell_type": "markdown",
   "id": "614e53ea-e48e-427a-9517-aebc5b285527",
   "metadata": {},
   "source": [
    "# Optical depth"
   ]
  },
  {
   "cell_type": "markdown",
   "id": "271569bf-1f27-4d87-b312-c917623945b4",
   "metadata": {},
   "source": [
    "The optical depth is defined as\n",
    "$$\n",
    "\\tau = \\int_0^{D_S} \\frac{\\rho(x)}{m} \\, \\pi u_T^2 R_E(x)^2 \\, dx\n",
    "$$\n",
    "where we use $ x = \\frac{D_L}{D_S} $, $ u_T = 1 $, and $ D_S = 8 \\, \\text{kpc} $.\n",
    "\n",
    "The factor $ \\frac{R_E(x)^2}{m} = \\kappa D_S^2 x(1 - x) $ represents the squared Einstein radius scaled by the lens mass, where $ \\kappa =\\frac{4G}{c^2}$ is a constant.\n",
    "\n",
    "The density profiles considered are as follows:\n",
    "\n",
    "1. **Isothermal Sphere Density Profile**:\n",
    "   $$\n",
    "   \\rho(x) = \\frac{\\rho_0 (R_\\text{sol}^2 + R_c^2)}{R_c^2 + r(x)^2}\n",
    "   $$\n",
    "   where $ R_\\text{sol} $ is the distance of the Sun from the Galactic center, $ R_c $ is the core radius, and $ r(x) $ gives the distance from the Galactic center to the lens at position $ x $.\n",
    "\n",
    "2. **Navarro-Frenk-White (NFW) Density Profile**:\n",
    "   $$\n",
    "   \\rho(x) = \\frac{\\rho_0}{\\frac{r(x)}{R_s} \\left(1 + \\frac{r(x)}{R_s}\\right)^2}\n",
    "   $$\n",
    "   where $ \\rho_0 $ is a characteristic density, and $ R_s $ is the NFW scale radius.\n",
    "\n",
    "In both cases, $ r(x) $ is given by\n",
    "$$\n",
    "r(x) = \\sqrt{R_S^2 + (D_S x)^2 - 2 D_S R_s x \\cos(l) \\cos(b)}\n",
    "$$\n",
    "where $ l $ and $ b $ are the Galactic longitude and latitude of the source, respectively.\n"
   ]
  },
  {
   "cell_type": "code",
   "execution_count": 1,
   "id": "50956919-d606-411e-ae50-b6bddb22a07e",
   "metadata": {
    "tags": []
   },
   "outputs": [
    {
     "name": "stdout",
     "output_type": "stream",
     "text": [
      "Integrated Optical Depth (Isothermal Sphere): 5.104534452369212e-07\n",
      "Integrated Optical Depth (Navarro Frenk White): 3.943342232943051e-07\n"
     ]
    }
   ],
   "source": [
    "import numpy as np\n",
    "import math\n",
    "import astropy.units as u\n",
    "import astropy.constants as c\n",
    "from scipy.integrate import fixed_quad\n",
    "\n",
    "def pos_sol(x):\n",
    "    '''\n",
    "    Calculates the position of the Sun relative to the Galactic center.\n",
    "\n",
    "    Parameters:\n",
    "    x (float): Fractional distance parameter, 0 ≤ x ≤ 1.\n",
    "\n",
    "    Returns:\n",
    "    r (Quantity): Distance of the Sun from the Galactic center in kiloparsecs.\n",
    "    '''\n",
    "    l = -32.8  # Galactic longitude in degrees\n",
    "    b = 281  # Galactic latitude in degrees\n",
    "    Ds = 55 * u.kpc  # Distance to the source in kiloparsecs\n",
    "    angle = np.cos(math.radians(l)) * np.cos(math.radians(b))\n",
    "    Rs = 8.5 * u.kpc  # Distance of the Sun from the Galactic center in kiloparsecs\n",
    "    r = np.sqrt(Rs**2 + (Ds * x)**2 - 2 * Rs * (x * Ds) * angle)\n",
    "    return r\n",
    "\n",
    "def rho_NFW(r):\n",
    "    '''    \n",
    "    Navarro-Frenk-White (NFW) density profile for dark matter distribution.\n",
    "\n",
    "    Parameters:\n",
    "    r (Quantity): Distance from the Galactic center in kiloparsecs.\n",
    "\n",
    "    Returns:\n",
    "    density (Quantity): NFW density at distance r in units of solar masses per cubic kiloparsec.\n",
    "    '''\n",
    "    Rs = 21.5 * u.kpc  # Scale radius in kiloparsecs\n",
    "    rho0 = 4.88e+6 * c.M_sun / u.kpc**3  # Characteristic density\n",
    "    q = r / Rs\n",
    "    bot = q * (1 + q)**2\n",
    "    return rho0 / bot\n",
    "\n",
    "def rho_iso(r):\n",
    "    '''\n",
    "    Isothermal sphere density profile.\n",
    "\n",
    "    Parameters:\n",
    "    r (Quantity): Distance from the Galactic center in kiloparsecs.\n",
    "\n",
    "    Returns:\n",
    "    density (Quantity): Density at distance r in units of solar masses per cubic kiloparsec.\n",
    "    '''\n",
    "    rho0 = 7.9e-3 * c.M_sun / (u.pc)**3  # Central density in solar masses per cubic parsec\n",
    "    Rsol = 8.5 * u.kpc  # Solar distance to the Galactic center in kiloparsecs\n",
    "    Rc = 5 * u.kpc  # Core radius in kiloparsecs\n",
    "    top = rho0 * (Rsol**2 + Rc**2)\n",
    "    bot = r**2 + Rc**2\n",
    "    return top / bot\n",
    "\n",
    "def Einstein_angle_sq_m(x):\n",
    "    '''\n",
    "    Computes the squared Einstein angle times the distance to the lens (Dl) times the lens mass (M).\n",
    "\n",
    "    Parameters:\n",
    "    x (float): Fractional distance parameter, 0 ≤ x ≤ 1.\n",
    "\n",
    "    Returns:\n",
    "    Quantity: Squared Einstein angle times Dl times M in units of meters squared kilograms.\n",
    "    '''\n",
    "    Ds = 55 * u.kpc  # Distance to the source in kiloparsecs\n",
    "    k = 4 * c.G / c.c**2  # Constant related to the gravitational lensing effect\n",
    "    return (k * x * (1 - x) * Ds**2)\n",
    "\n",
    "def int_optical_depth(rho, x):\n",
    "    '''\n",
    "    Computes the integrand for optical depth calculation.\n",
    "\n",
    "    Parameters:\n",
    "    rho (function): Density function (either rho_NFW or rho_iso).\n",
    "    x (float): Fractional distance parameter, 0 ≤ x ≤ 1.\n",
    "\n",
    "    Returns:\n",
    "    float: Integrand value for optical depth.\n",
    "    '''\n",
    "    r = pos_sol(x)\n",
    "    einstein_radius_sq_m = Einstein_angle_sq_m(x)\n",
    "    optical_depth_integrand = (np.pi * rho(r) * einstein_radius_sq_m)\n",
    "    return optical_depth_integrand.decompose().value  # Strip units for integration\n",
    "\n",
    "# Perform the integration over x from 0 to 1 using the fixed_quad method\n",
    "optical_depth_iso, _ = fixed_quad(lambda x: int_optical_depth(rho_iso, x), 0, 1, n=10)\n",
    "optical_depth_NFW, _ = fixed_quad(lambda x: int_optical_depth(rho_NFW, x), 0, 1, n=10)\n",
    "print(\"Integrated Optical Depth (Isothermal Sphere):\", optical_depth_iso)\n",
    "print(\"Integrated Optical Depth (Navarro Frenk White):\", optical_depth_NFW)\n"
   ]
  },
  {
   "cell_type": "code",
   "execution_count": null,
   "id": "70fbf7bf-01c3-42d7-9b73-cf48e48406d6",
   "metadata": {},
   "outputs": [],
   "source": [
    "\n"
   ]
  }
 ],
 "metadata": {
  "kernelspec": {
   "display_name": "pyLIMA-pip",
   "language": "python",
   "name": "pylima-pip"
  },
  "language_info": {
   "codemirror_mode": {
    "name": "ipython",
    "version": 3
   },
   "file_extension": ".py",
   "mimetype": "text/x-python",
   "name": "python",
   "nbconvert_exporter": "python",
   "pygments_lexer": "ipython3",
   "version": "3.11.5"
  }
 },
 "nbformat": 4,
 "nbformat_minor": 5
}
