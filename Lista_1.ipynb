{
 "cells": [
  {
   "cell_type": "code",
   "execution_count": null,
   "id": "7949e844-15c1-41b3-a5cc-99f00086dae0",
   "metadata": {},
   "outputs": [],
   "source": [
    "import numpy as np\n",
    "import matplotlib.pyplot as plt\n",
    "\n",
    "import numpy as np\n",
    "import matplotlib.pyplot as plt\n",
    "from scipy.constants import G, c, parsec\n",
    "from functions import magnification, stable_deflection_angle, exact_deflection_angle_stable_gk\n"
   ]
  },
  {
   "cell_type": "markdown",
   "id": "78f4e73c-3b4c-439f-879b-0fe1f50c9bf7",
   "metadata": {},
   "source": [
    "# Problema 2"
   ]
  },
  {
   "cell_type": "code",
   "execution_count": null,
   "id": "c692b98b-8f4f-430b-bb73-7e2fad8fd6b5",
   "metadata": {
    "tags": []
   },
   "outputs": [
    {
     "name": "stderr",
     "output_type": "stream",
     "text": [
      "/tmp/ipykernel_110717/1016471373.py:8: RuntimeWarning: invalid value encountered in sqrt\n",
      "  denominator = np.sqrt(1 - x**2 - ((Rs / rm) * (1 - x**3)))\n"
     ]
    }
   ],
   "source": [
    "\n",
    "# Function for the stable deflection angle using element-wise operations\n",
    "\n",
    "# Parameters\n",
    "Rs = 1\n",
    "rm_values = np.linspace(1 * Rs, 100 * Rs, 1000)\n",
    "\n",
    "# Compute deflection angles\n",
    "angles_stable = [exact_deflection_angle_stable_gk(rm, Rs) for rm in rm_values]\n",
    "dphi = [alpha for alpha, rm in zip(angles_stable, rm_values)]"
   ]
  },
  {
   "cell_type": "code",
   "execution_count": null,
   "id": "84d2030b-4f9b-4e72-9de8-fba46eb3406a",
   "metadata": {
    "tags": []
   },
   "outputs": [],
   "source": [
    "# Plotting\n",
    "plt.figure(figsize=(10, 6), dpi=180)\n",
    "plt.plot(rm_values / Rs, (2 * np.array(dphi) - np.pi) * rm_values / (2 * Rs), lw=2.5, marker='', label=r'$\\frac{\\hat{\\alpha} r_m}{2 R_S}$')\n",
    "plt.axvline(1, color='red', lw=2)\n",
    "plt.axhline(1, color='k',ls='--', lw=1,label='Campo debil')\n",
    "plt.xticks([1,10,50,100],[r'$R_S$',10,50,100])\n",
    "plt.xlabel(r'$\\frac{r_m}{R_S}$', fontsize=20)\n",
    "plt.ylabel(r'$\\hat{\\alpha} \\ \\frac{ r_m}{2 R_S}$', fontsize=20)\n",
    "plt.title('Ángulo de deflexión exacto sin aproximación de campo débil')\n",
    "plt.grid(True)\n",
    "plt.legend(fontsize=15)\n",
    "plt.show()\n"
   ]
  },
  {
   "cell_type": "markdown",
   "id": "398adf0a-edfa-4e26-987b-5946258cbfb7",
   "metadata": {},
   "source": [
    "# Problema 3"
   ]
  },
  {
   "cell_type": "code",
   "execution_count": null,
   "id": "aed48906-8f99-47b3-b59c-0c36a8eaa572",
   "metadata": {
    "tags": []
   },
   "outputs": [],
   "source": [
    "u0s = [0.1,0.5,1,1.2] #Impact parameter (closest approach in units of Einstein radius)\n",
    "\n",
    "\n",
    "\n",
    "plt.figure(figsize=(10, 6),dpi=100)\n",
    "for u0 in u0s:\n",
    "    # Parameters for the microlensing event\n",
    "    t0 = 0               # Time of maximum magnification\n",
    "    tE = 20              # Einstein radius crossing time (days)\n",
    "\n",
    "    # Time array\n",
    "    time = np.linspace(-50, 50, 1000)  # Time in days\n",
    "\n",
    "    # Microlensing magnification formula\n",
    "\n",
    "    # Compute the magnification\n",
    "    magnitudes = magnification(time, t0, tE, u0)\n",
    "\n",
    "    # Plotting the light curve\n",
    "\n",
    "    plt.plot(time/tE, magnitudes, lw=2, label=r'$u_0:$'+str(u0))\n",
    "plt.axvline(x=t0, color='red', linestyle='--', label=r'$t_0$ tiempo de maxima magnificacin')\n",
    "plt.title('Microlensing: Curva de Luz')\n",
    "plt.xlabel('Tiempo (dias)')\n",
    "plt.ylabel('Magnificacion')\n",
    "plt.grid(True)\n",
    "plt.legend()\n",
    "plt.show()"
   ]
  },
  {
   "cell_type": "code",
   "execution_count": null,
   "id": "66d846d4-3f9f-42d1-9845-c681955ec86b",
   "metadata": {
    "tags": []
   },
   "outputs": [],
   "source": [
    "\n",
    "\n",
    "# Parámetros físicos\n",
    "M_solar = 1.989e30  # Masa solar en kg\n",
    "D_S = 8 * parsec * 1e3  # Distancia a la fuente en metros (8 kpc)\n",
    "D_L = 4 * parsec * 1e3  # Distancia a la lente en metros (4 kpc)\n",
    "v = 100 * 1e3  # Velocidad transversal en m/s\n",
    "\n",
    "# Cálculo del radio de Einstein\n",
    "R_E = np.sqrt((4 * G * M_solar * (D_S - D_L) * D_L) / (c**2 * D_S))\n",
    "\n",
    "# Tiempo de cruce del radio de Einstein (t_E)\n",
    "t_E = R_E / v / (60 * 60 * 24)  # en días\n",
    "print(t_E)\n",
    "# Configuración de tiempo y valores de u0\n",
    "t0 = 0\n",
    "time = np.linspace(-100, 100, 1000)\n",
    "u0_values = [0.1, 0.3, 0.5, 1.0]  # Diferentes valores de parametro de impacto\n",
    "\n",
    "# Graficar la magnificación para diferentes valores de u0\n",
    "plt.figure(figsize=(12, 8))\n",
    "for u0 in u0_values:\n",
    "    magnitudes = magnification(time, t0, t_E, u0)\n",
    "    plt.plot(time, magnitudes, lw=2, label=f'u0 = {u0}')\n",
    "\n",
    "# Configuración del gráfico\n",
    "plt.axvline(x=t0, color='red', linestyle='--', label='Tiempo de máxima magnificación')\n",
    "plt.title('Curva de Luz de Microlente Gravitacional')\n",
    "plt.xlabel('Tiempo (días)')\n",
    "plt.ylabel('Magnificación')\n",
    "plt.grid(True)\n",
    "plt.legend()\n",
    "plt.show()"
   ]
  },
  {
   "cell_type": "markdown",
   "id": "7b144653-e899-421f-a033-90b355a7ac72",
   "metadata": {},
   "source": [
    "# Evento simulado con PyLIMA"
   ]
  },
  {
   "cell_type": "code",
   "execution_count": null,
   "id": "85de5b95-ec36-4215-b64f-5b39ec2ca343",
   "metadata": {
    "tags": []
   },
   "outputs": [],
   "source": [
    "import matplotlib.pyplot as plt\n",
    "# from pyLIMA.models import DSPL_model\n",
    "from pyLIMA.models import PSPL_model\n",
    "from pyLIMA.outputs import pyLIMA_plots\n",
    "### Import the simulator to be used for generating the simulated light curve\n",
    "from pyLIMA.simulations import simulator\n",
    "from pyLIMA.toolbox import brightness_transformation\n",
    "\n",
    "from pyLIMA import event\n",
    "\n",
    "your_event = event.Event(ra=270, dec=-30)\n",
    "your_event.name = 'My simulated event'\n",
    "\n",
    "telescopio = simulator.simulate_a_telescope(name='Telescopio', time_start=2457365.5-100,\n",
    "                                        time_end=2457965.5+100, sampling=4,\n",
    "                                        location='Earth', camera_filter='I',\n",
    "                                        uniform_sampling=True, astrometry=False)\n",
    "\n",
    "your_event.telescopes.append(telescopio)\n",
    "\n",
    "your_event.check_event()\n",
    "\n",
    "pspl = PSPL_model.PSPLmodel(your_event)\n",
    "\n",
    "# pspl_parameters = simulator.simulate_microlensing_model_parameters(pspl)\n",
    "pspl_parameters =[2457325,0.1,50,295337.55338102015, 567.8517989006273]\n",
    "print (pspl_parameters)\n",
    "\n",
    "pspl.model_dictionnary\n",
    "\n",
    "pyLIMA_parameters_1 = pspl.compute_pyLIMA_parameters(pspl_parameters)\n",
    "\n",
    "simulator.simulate_lightcurve_flux(pspl, pyLIMA_parameters_1)\n",
    "\n",
    "pyLIMA_plots.plot_lightcurves(pspl, pspl_parameters)\n",
    "plt.show()"
   ]
  },
  {
   "cell_type": "code",
   "execution_count": null,
   "id": "fc8deb66-ef4c-4b63-b2c7-a50711e7c2c8",
   "metadata": {},
   "outputs": [],
   "source": []
  },
  {
   "cell_type": "code",
   "execution_count": null,
   "id": "a472d6ba-0128-4360-ba04-ca7ffbfcfd95",
   "metadata": {},
   "outputs": [],
   "source": []
  },
  {
   "cell_type": "code",
   "execution_count": null,
   "id": "d95c7583-49f9-4967-aee8-ca5a5dd7ddd5",
   "metadata": {},
   "outputs": [],
   "source": []
  }
 ],
 "metadata": {
  "kernelspec": {
   "display_name": "pyLIMA-pip",
   "language": "python",
   "name": "pylima-pip"
  },
  "language_info": {
   "codemirror_mode": {
    "name": "ipython",
    "version": 3
   },
   "file_extension": ".py",
   "mimetype": "text/x-python",
   "name": "python",
   "nbconvert_exporter": "python",
   "pygments_lexer": "ipython3",
   "version": "3.11.5"
  }
 },
 "nbformat": 4,
 "nbformat_minor": 5
}
