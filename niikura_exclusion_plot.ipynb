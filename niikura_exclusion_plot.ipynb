{
 "cells": [
  {
   "cell_type": "markdown",
   "id": "50c5b1ac-2735-4b3c-b3c3-8e6d89c1384a",
   "metadata": {},
   "source": [
    "# Differential Event Rate\n",
    "\n",
    "It is derived as the duration distribution of microlensing events:\n",
    "\\begin{equation}\n",
    "    \\frac{d\\Gamma}{d\\hat{t}}= 2D_S \\int_{0}^{1}dx \\frac{\\rho(x)}{Mv_c^2}v_E^4 \\, \\exp{\\left(-\\frac{v_E^2}{v_c^2}\\right)}\n",
    "\\end{equation}\n",
    "\n",
    "The profile describing the halo objects of the galaxy will be given by an isotropic, isothermal, and non-singular sphere as follows:\n",
    "\\begin{equation}\n",
    "    \\rho_{isot}(R) = \\rho_{\\odot} \\frac{R_{Sol}^2+R_C^2}{R_C^2+R^2} \\,,\n",
    "\\end{equation}\n",
    "with $\\rho_{\\odot} = 0.0097M_{\\odot}\\text{pc}^{-3}$, $R_C= 5$ kpc as the core radius of the galaxy, and $R_{Sol}=8.5$ kpc as the distance from the Sun to the center of the galaxy.\n",
    "\n",
    "On the other hand, $v_E = R_E(x)/t_E$.\n",
    "\n",
    "\\begin{equation}\n",
    "    \\rho_{NFW}(R) =  \\frac{\\rho_{c}}{(\\frac{r}{r_s})(\\frac{r}{r_s}+1)^2} \\,,\n",
    "\\end{equation}"
   ]
  },
  {
   "cell_type": "code",
   "execution_count": 1,
   "id": "fabaf218-7ae4-47c0-a748-2999449b5d6f",
   "metadata": {},
   "outputs": [
    {
     "name": "stdout",
     "output_type": "stream",
     "text": [
      "Plataforma por defecto: gpu\n",
      "Dispositivos disponibles: [CudaDevice(id=0)]\n"
     ]
    }
   ],
   "source": [
    "import numpy as np\n",
    "import matplotlib.pyplot as plt\n",
    "from astropy import units as u\n",
    "from astropy import constants as C\n",
    "import scipy.integrate as integrate\n",
    "from scipy.integrate import simpson, dblquad\n",
    "from event_rate import dif_event_rate, integrand_jax, double_integral_2d\n",
    "from tqdm import tqdm\n",
    "import time\n",
    "import os\n",
    "import jax\n",
    "import jax.numpy as jnp\n",
    "os.environ[\"JAX_PLATFORM_NAME\"] = \"gpu\"\n",
    "print(\"Plataforma por defecto:\", jax.default_backend())\n",
    "print(\"Dispositivos disponibles:\", jax.devices())\n",
    "jax.config.update(\"jax_enable_x64\", True)"
   ]
  },
  {
   "cell_type": "code",
   "execution_count": 2,
   "id": "85f9a367-7178-460e-996a-bf3b7bc06f68",
   "metadata": {},
   "outputs": [],
   "source": [
    "rho_c_MW = 4.88e6*C.M_sun/u.kpc**3\n",
    "rs_MW = 21.5*u.kpc\n",
    "rho_c_M31 = 4.96e6*C.M_sun/u.kpc**3\n",
    "rs_M31 = 25*u.kpc\n",
    "uT = 1\n",
    "l,b = 121.2, -21.6 \n",
    "D = 770*u.kpc\n",
    "m = 10**-7*u.M_sun\n",
    "t=1*u.hour"
   ]
  },
  {
   "cell_type": "code",
   "execution_count": 3,
   "id": "719be416-da81-49fc-869d-d1c186899a1d",
   "metadata": {},
   "outputs": [],
   "source": [
    "# integrar sin jax\n",
    "not_jax = False\n",
    "if not_jax:\n",
    "    d2gamadt2_MW = []\n",
    "    d2gamadt2_M31 = []\n",
    "    for t in tqdm(t_hat):\n",
    "        d2gamadt2_MW.append(dif_event_rate( t, m, D, rs_MW, rho_c_MW, l, b, uT).event_rate())\n",
    "        d2gamadt2_M31.append(dif_event_rate( t, m, D, rs_M31, rho_c_M31, l, b, uT).event_rate())\n",
    "    \n",
    "    \n",
    "    plt.figure(figsize=(8,6))\n",
    "    plt.plot(t_hat,(np.array(d2gamadt2_MW)+np.array(d2gamadt2_M31)),lw=2, ls='-',color='r',label=str(m.value)+r'$M_{\\odot}$')\n",
    "    plt.plot(t_hat,np.array(d2gamadt2_MW), alpha=0.5,lw=2, ls='--',color='b')\n",
    "    plt.plot(t_hat,np.array(d2gamadt2_M31), alpha=0.5,lw=2, ls='--',color='g')\n",
    "    plt.xscale(\"log\")\n",
    "    plt.yscale(\"log\")\n",
    "    plt.ylim(1e-8,1e-2)\n",
    "    \n",
    "    plt.ylabel(r'$\\frac{d\\Gamma}{dt_E}(events/hour/hour)$',fontsize=15)\n",
    "    plt.xlabel(r'$t_E [days]$',fontsize=15)\n",
    "    plt.xticks(fontsize=15)\n",
    "    plt.yticks(fontsize=15)\n",
    "    plt.legend(loc='best' ,fontsize=15)\n"
   ]
  },
  {
   "cell_type": "code",
   "execution_count": 4,
   "id": "e94902d3-caf3-4729-8ec4-5749af49550f",
   "metadata": {},
   "outputs": [
    {
     "name": "stdout",
     "output_type": "stream",
     "text": [
      "resultado integrando 6.119038840901917e-32\n",
      "resultado integral usando dbquad 1.388623456166031e-07\n",
      "Tiempo transcurrido integrando con dbquad 6.96762228012085\n",
      "   \n"
     ]
    },
    {
     "ename": "NameError",
     "evalue": "name 'double_integral_2d_jit' is not defined",
     "output_type": "error",
     "traceback": [
      "\u001b[0;31m---------------------------------------------------------------------------\u001b[0m",
      "\u001b[0;31mNameError\u001b[0m                                 Traceback (most recent call last)",
      "Cell \u001b[0;32mIn[4], line 13\u001b[0m\n\u001b[1;32m     11\u001b[0m \u001b[38;5;28mprint\u001b[39m(\u001b[38;5;124m'\u001b[39m\u001b[38;5;124m   \u001b[39m\u001b[38;5;124m'\u001b[39m)\n\u001b[1;32m     12\u001b[0m t0 \u001b[38;5;241m=\u001b[39m time\u001b[38;5;241m.\u001b[39mtime()\n\u001b[0;32m---> 13\u001b[0m resultado_jax \u001b[38;5;241m=\u001b[39m double_integral_2d_jit(f_jax, (\u001b[38;5;241m0.0\u001b[39m, uT\u001b[38;5;241m-\u001b[39m\u001b[38;5;241m1e-15\u001b[39m), (\u001b[38;5;241m0.0\u001b[39m, \u001b[38;5;241m1.0\u001b[39m))\n\u001b[1;32m     14\u001b[0m \u001b[38;5;28mprint\u001b[39m(\u001b[38;5;124m'\u001b[39m\u001b[38;5;124mresultado integrando usando JAX\u001b[39m\u001b[38;5;124m'\u001b[39m,integrand_jax(\u001b[38;5;241m0.5\u001b[39m, \u001b[38;5;241m0.5\u001b[39m, D\u001b[38;5;241m.\u001b[39mto(\u001b[38;5;124m'\u001b[39m\u001b[38;5;124mm\u001b[39m\u001b[38;5;124m'\u001b[39m)\u001b[38;5;241m.\u001b[39mvalue, rs_MW\u001b[38;5;241m.\u001b[39mto(\u001b[38;5;124m'\u001b[39m\u001b[38;5;124mm\u001b[39m\u001b[38;5;124m'\u001b[39m)\u001b[38;5;241m.\u001b[39mvalue, rho_c_MW\u001b[38;5;241m.\u001b[39mto(\u001b[38;5;124m'\u001b[39m\u001b[38;5;124mkg/m^3\u001b[39m\u001b[38;5;124m'\u001b[39m)\u001b[38;5;241m.\u001b[39mvalue, \u001b[38;5;28mfloat\u001b[39m(t\u001b[38;5;241m.\u001b[39mto(\u001b[38;5;124m'\u001b[39m\u001b[38;5;124ms\u001b[39m\u001b[38;5;124m'\u001b[39m)\u001b[38;5;241m.\u001b[39mvalue), m\u001b[38;5;241m.\u001b[39mto(\u001b[38;5;124m'\u001b[39m\u001b[38;5;124mkg\u001b[39m\u001b[38;5;124m'\u001b[39m)\u001b[38;5;241m.\u001b[39mvalue, l, b, uT))\n\u001b[1;32m     15\u001b[0m \u001b[38;5;28mprint\u001b[39m(\u001b[38;5;124m'\u001b[39m\u001b[38;5;124mresultado integral usando JAX\u001b[39m\u001b[38;5;124m'\u001b[39m,resultado_jax)\n",
      "\u001b[0;31mNameError\u001b[0m: name 'double_integral_2d_jit' is not defined"
     ]
    }
   ],
   "source": [
    "f_jax = lambda u, x: integrand_jax(u, x, D=D.to('m').value, rs=rs_MW.to('m').value, rho_c=rho_c_MW.to('kg/m^3').value,\n",
    "                                   t=float(t.to('s').value), m=m.to('kg').value, l_coord=l,\n",
    "                                   b_coord=b, uT=uT)\n",
    "\n",
    "t0 = time.time()\n",
    "event_rate_data = dif_event_rate( t, m, D, rs_MW, rho_c_MW, l, b, uT)\n",
    "print('resultado integrando',event_rate_data.integrand(0.5,0.5))\n",
    "print('resultado integral usando dbquad',event_rate_data.event_rate())\n",
    "tf = time.time()\n",
    "print('Tiempo transcurrido integrando con dbquad',tf-t0)\n",
    "print('   ')\n",
    "t0 = time.time()\n",
    "resultado_jax = double_integral_2d_jit(f_jax, (0.0, uT-1e-15), (0.0, 1.0))\n",
    "print('resultado integrando usando JAX',integrand_jax(0.5, 0.5, D.to('m').value, rs_MW.to('m').value, rho_c_MW.to('kg/m^3').value, float(t.to('s').value), m.to('kg').value, l, b, uT))\n",
    "print('resultado integral usando JAX',resultado_jax)\n",
    "tf = time.time()\n",
    "print('Tiempo transcurrido integrando con JAX',tf-t0)\n"
   ]
  },
  {
   "cell_type": "code",
   "execution_count": null,
   "id": "0bff4acb-cc98-4aac-bd67-d4a26c281e20",
   "metadata": {},
   "outputs": [],
   "source": [
    "#comparacion integrandos\n",
    "umin = np.linspace(0,1,1000)\n",
    "X = np.linspace(0,1,20)\n",
    "for x in X:\n",
    "    plt.plot(umin,integrand_jax(umin, x, D.to('m').value, rs_MW.to('m').value, rho_c_MW.to('kg/m^3').value, float(t.to('s').value), m.to('kg').value, l, b, uT))\n",
    "    plt.plot(umin, event_rate_data.integrand(x,umin),'--',alpha=0.5)"
   ]
  },
  {
   "cell_type": "code",
   "execution_count": null,
   "id": "fe917f77-fe22-4fc3-b906-05ad2d23c418",
   "metadata": {},
   "outputs": [],
   "source": [
    "# Convertís tus cantidades antes:\n",
    "double_integral_2d_jit = jax.jit(double_integral_2d, static_argnames=[\"f\"])\n",
    "t_hat = np.logspace(-3, 2, 100)*u.hour.to('s')\n",
    "\n",
    "rs_MW_val = rs_MW.to('m').value\n",
    "rho_c_MW_val = rho_c_MW.to('kg/m^3').value\n",
    "\n",
    "rs_M31_val = rs_M31.to('m').value\n",
    "rho_c_M31_val = rho_c_M31.to('kg/m^3').value\n",
    "\n",
    "D_val = D.to('m').value\n",
    "m_val = m.to('kg').value\n",
    "l_val = l\n",
    "b_val = b\n",
    "uT_val = uT\n",
    "# Definís la función con los parámetros fijos\n",
    "\n",
    "d2gamadt2_MW = []\n",
    "d2gamadt2_M31 = []\n",
    "for t_val in tqdm(t_hat):\n",
    "    f_jax_MW = lambda u, x: integrand_jax(u, x, D=D_val, rs=rs_MW_val, rho_c=rho_c_MW_val,\n",
    "                                       t=t_val, m=m_val, l_coord=l,\n",
    "                                       b_coord=b, uT=uT_val)\n",
    "    \n",
    "    # Definís la función con los parámetros fijos\n",
    "    f_jax_M31 = lambda u, x: integrand_jax(u, x, D=D_val, rs=rs_M31_val, rho_c=rho_c_M31_val,\n",
    "                                       t=t_val, m=m_val, l_coord=l,\n",
    "                                       b_coord=b, uT=uT_val)\n",
    "    \n",
    "    resultado_MW = double_integral_2d_jit(f_jax_MW, (0.0, uT-1e-15), (0.0, 1.0))\n",
    "    resultado_M31 = double_integral_2d_jit(f_jax_M31, (0.0, uT-1e-15), (0.0, 1.0))\n",
    "    \n",
    "    d2gamadt2_MW.append(resultado_MW)\n",
    "    d2gamadt2_M31.append(resultado_M31)\n"
   ]
  },
  {
   "cell_type": "code",
   "execution_count": null,
   "id": "748321c1-0e76-4af5-8d36-32475894ecbc",
   "metadata": {},
   "outputs": [],
   "source": [
    "#niikura plots\n",
    "\n",
    "plt.figure(figsize=(8,6))\n",
    "plt.plot(t_hat/3600,(np.array(d2gamadt2_MW)+np.array(d2gamadt2_M31)),lw=2, ls='-',color='r',label=str(m.value)+r'$M_{\\odot}$')\n",
    "plt.plot(t_hat/3600,np.array(d2gamadt2_MW), alpha=0.5,lw=2, ls='--',color='b')\n",
    "plt.plot(t_hat/3600,np.array(d2gamadt2_M31), alpha=0.5,lw=2, ls='--',color='g')\n",
    "plt.xscale(\"log\")\n",
    "plt.yscale(\"log\")\n",
    "plt.ylim(1e-8,1e-2)\n",
    "\n",
    "plt.ylabel(r'$\\frac{d\\Gamma}{dt_E}(events/hour/hour)$',fontsize=15)\n",
    "plt.xlabel(r'$t_E [hour]$',fontsize=15)\n",
    "plt.xticks(fontsize=15)\n",
    "plt.yticks(fontsize=15)\n",
    "plt.legend(loc='best' ,fontsize=15)"
   ]
  },
  {
   "cell_type": "code",
   "execution_count": null,
   "id": "b3035256-a079-46cf-babc-2351c6220f4d",
   "metadata": {},
   "outputs": [],
   "source": []
  }
 ],
 "metadata": {
  "kernelspec": {
   "display_name": "Python 3 (ipykernel)",
   "language": "python",
   "name": "python3"
  },
  "language_info": {
   "codemirror_mode": {
    "name": "ipython",
    "version": 3
   },
   "file_extension": ".py",
   "mimetype": "text/x-python",
   "name": "python",
   "nbconvert_exporter": "python",
   "pygments_lexer": "ipython3",
   "version": "3.12.2"
  }
 },
 "nbformat": 4,
 "nbformat_minor": 5
}
